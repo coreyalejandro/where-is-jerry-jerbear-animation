{
  "nbformat": 4,
  "nbformat_minor": 0,
  "metadata": {
    "colab": {
      "provenance": [],
      "authorship_tag": "ABX9TyOCedHKFgWX+9KEWYsgXRJD",
      "include_colab_link": true
    },
    "kernelspec": {
      "name": "python3",
      "display_name": "Python 3"
    },
    "language_info": {
      "name": "python"
    }
  },
  "cells": [
    {
      "cell_type": "markdown",
      "metadata": {
        "id": "view-in-github",
        "colab_type": "text"
      },
      "source": [
        "<a href=\"https://colab.research.google.com/github/coreyalejandro/where-is-jerry-jerbear-animation/blob/main/WhereIsJerry_JerBear_Animation.ipynb\" target=\"_parent\"><img src=\"https://colab.research.google.com/assets/colab-badge.svg\" alt=\"Open In Colab\"/></a>"
      ]
    },
    {
      "cell_type": "markdown",
      "source": [
        "# **WhereIsJerry? JerBear Animation Plan**"
      ],
      "metadata": {
        "id": "2rfie8xO2Adm"
      }
    },
    {
      "cell_type": "markdown",
      "source": [
        "**Objective:** Create a 6-second animated video of Jerr-Bear and Alorica employees standing on the roof of Alorica's San Antonio office building as it turns into a rocket ship and blasts off.\n",
        "\n",
        "**Tools Required:** Python, OpenCV, Scrapy, requests, BeautifulSoup, Numpy, imageio, matplotlib, Pillow, moviepy"
      ],
      "metadata": {
        "id": "b4zOoasQ2avC"
      }
    },
    {
      "cell_type": "markdown",
      "source": [
        "## **Step 1: Obtain Reference Images**"
      ],
      "metadata": {
        "id": "RM0MvVNh23-F"
      }
    },
    {
      "cell_type": "markdown",
      "source": [
        "### **Step 1.1: JerBear Image**\n",
        "\n"
      ],
      "metadata": {
        "id": "MEDcVfxU3-fp"
      }
    },
    {
      "cell_type": "markdown",
      "source": [
        "*   Implement error handling and retries for image download.\n",
        "*   Add image validation to ensure the downloaded image is not corrupted."
      ],
      "metadata": {
        "id": "E0YHP9yJCP2n"
      }
    },
    {
      "cell_type": "code",
      "source": [
        "# Obtain JerBear Reference Image\n",
        "\n",
        "import requests\n",
        "from PIL import Image\n",
        "import io\n",
        "\n",
        "def download_image(url, filename, max_retries=3):\n",
        "    for attempt in range(max_retries):\n",
        "        try:\n",
        "            response = requests.get(url, timeout=10)\n",
        "            response.raise_for_status()\n",
        "\n",
        "            # Validate image\n",
        "            img = Image.open(io.BytesIO(response.content))\n",
        "            img.verify()\n",
        "\n",
        "            with open(filename, 'wb') as f:\n",
        "                f.write(response.content)\n",
        "            print(f\"Downloaded {filename}\")\n",
        "            return True\n",
        "        except (requests.RequestException, IOError) as e:\n",
        "            print(f\"Attempt {attempt + 1} failed: {str(e)}\")\n",
        "\n",
        "    print(f\"Failed to download image from {url} after {max_retries} attempts\")\n",
        "    return False\n",
        "\n",
        "url_jerr_bear = \"https://example.com/jerr-bear.png\"\n",
        "download_image(url_jerr_bear, \"jerr_bear.png\")\n"
      ],
      "metadata": {
        "id": "34ObvJP-3eiR"
      },
      "execution_count": null,
      "outputs": []
    },
    {
      "cell_type": "markdown",
      "source": [
        "### **Step 1.2: Employee Images**\n"
      ],
      "metadata": {
        "id": "FmPfoux64d6I"
      }
    },
    {
      "cell_type": "markdown",
      "source": [
        "*  Implement a robust scraping solution using Scrapy.\n",
        "*  Add pagination handling to scrape multiple pages."
      ],
      "metadata": {
        "id": "4jP9B8bOCAkv"
      }
    },
    {
      "cell_type": "code",
      "source": [
        "# Obtain employee images\n",
        "import scrapy\n",
        "from scrapy.crawler import CrawlerProcess\n",
        "\n",
        "class EmployeeImageSpider(scrapy.Spider):\n",
        "    name = 'employee_images'\n",
        "    start_urls = ['http://alorica.com/team-page']\n",
        "\n",
        "    def parse(self, response):\n",
        "        for img in response.css('img.team-img'):\n",
        "            yield {\n",
        "                'image_url': response.urljoin(img.attrib['src']),\n",
        "                'name': img.attrib.get('alt', '')\n",
        "            }\n",
        "\n",
        "        next_page = response.css('a.next-page::attr(href)').get()\n",
        "        if next_page:\n",
        "            yield response.follow(next_page, self.parse)\n",
        "\n",
        "process = CrawlerProcess(settings={\n",
        "    'FEED_FORMAT': 'json',\n",
        "    'FEED_URI': 'employee_images.json'\n",
        "})\n",
        "\n",
        "process.crawl(EmployeeImageSpider)\n",
        "process.start()\n",
        "\n"
      ],
      "metadata": {
        "id": "NnYK6BXo470A",
        "colab": {
          "base_uri": "https://localhost:8080/",
          "height": 383
        },
        "outputId": "cf289e59-1334-4099-9a4a-2371b41949f1"
      },
      "execution_count": null,
      "outputs": [
        {
          "output_type": "error",
          "ename": "ModuleNotFoundError",
          "evalue": "No module named 'scrapy'",
          "traceback": [
            "\u001b[0;31m---------------------------------------------------------------------------\u001b[0m",
            "\u001b[0;31mModuleNotFoundError\u001b[0m                       Traceback (most recent call last)",
            "\u001b[0;32m<ipython-input-1-4a715b47bd18>\u001b[0m in \u001b[0;36m<cell line: 2>\u001b[0;34m()\u001b[0m\n\u001b[1;32m      1\u001b[0m \u001b[0;31m# Obtain employee images\u001b[0m\u001b[0;34m\u001b[0m\u001b[0;34m\u001b[0m\u001b[0m\n\u001b[0;32m----> 2\u001b[0;31m \u001b[0;32mimport\u001b[0m \u001b[0mscrapy\u001b[0m\u001b[0;34m\u001b[0m\u001b[0;34m\u001b[0m\u001b[0m\n\u001b[0m\u001b[1;32m      3\u001b[0m \u001b[0;32mfrom\u001b[0m \u001b[0mscrapy\u001b[0m\u001b[0;34m.\u001b[0m\u001b[0mcrawler\u001b[0m \u001b[0;32mimport\u001b[0m \u001b[0mCrawlerProcess\u001b[0m\u001b[0;34m\u001b[0m\u001b[0;34m\u001b[0m\u001b[0m\n\u001b[1;32m      4\u001b[0m \u001b[0;34m\u001b[0m\u001b[0m\n\u001b[1;32m      5\u001b[0m \u001b[0;32mclass\u001b[0m \u001b[0mEmployeeImageSpider\u001b[0m\u001b[0;34m(\u001b[0m\u001b[0mscrapy\u001b[0m\u001b[0;34m.\u001b[0m\u001b[0mSpider\u001b[0m\u001b[0;34m)\u001b[0m\u001b[0;34m:\u001b[0m\u001b[0;34m\u001b[0m\u001b[0;34m\u001b[0m\u001b[0m\n",
            "\u001b[0;31mModuleNotFoundError\u001b[0m: No module named 'scrapy'",
            "",
            "\u001b[0;31m---------------------------------------------------------------------------\u001b[0;32m\nNOTE: If your import is failing due to a missing package, you can\nmanually install dependencies using either !pip or !apt.\n\nTo view examples of installing some common dependencies, click the\n\"Open Examples\" button below.\n\u001b[0;31m---------------------------------------------------------------------------\u001b[0m\n"
          ],
          "errorDetails": {
            "actions": [
              {
                "action": "open_url",
                "actionText": "Open Examples",
                "url": "/notebooks/snippets/importing_libraries.ipynb"
              }
            ]
          }
        }
      ]
    },
    {
      "cell_type": "markdown",
      "source": [
        "### **Step 1.3: Building Images**\n"
      ],
      "metadata": {
        "id": "hLATjXHT5LEZ"
      }
    },
    {
      "cell_type": "markdown",
      "source": [
        "* Implement a function to fetch multiple building images and select the best quality\n",
        "\n"
      ],
      "metadata": {
        "id": "bxdeLoexB3gQ"
      }
    },
    {
      "cell_type": "code",
      "source": [
        "# Obtain building images\n",
        "def fetch_building_images(search_query, num_images=5):\n",
        "    # Implement image search and download logic\n",
        "    # Return list of downloaded image paths\n",
        "    pass\n",
        "\n",
        "building_images = fetch_building_images(\"Alorica San Antonio office\")\n"
      ],
      "metadata": {
        "id": "mrRSOjPp5nMT"
      },
      "execution_count": null,
      "outputs": []
    },
    {
      "cell_type": "markdown",
      "source": [
        "## **Step 2: Image Processing and Composite Creation**\n"
      ],
      "metadata": {
        "id": "1YAACEDp6Ivj"
      }
    },
    {
      "cell_type": "markdown",
      "source": [
        "### **Step 2.1: Image Preprocessing:**\n",
        "* Implement image resizing and normalization.\n",
        "* Add background removal for character images."
      ],
      "metadata": {
        "id": "ZIwsMV3xoVuf"
      }
    },
    {
      "cell_type": "code",
      "source": [
        "import cv2\n",
        "import numpy as np\n",
        "\n",
        "def preprocess_image(image_path, target_size=(256, 256)):\n",
        "    img = cv2.imread(image_path)\n",
        "    img = cv2.resize(img, target_size)\n",
        "    img = cv2.normalize(img, None, 0, 255, cv2.NORM_MINMAX)\n",
        "    return img\n",
        "\n",
        "def remove_background(image):\n",
        "    # Implement background removal logic\n",
        "    # Return image with transparent background\n",
        "    pass\n",
        "\n",
        "jerr_bear = preprocess_image(\"jerr_bear.png\")\n",
        "jerr_bear = remove_background(jerr_bear)\n",
        "\n",
        "employees = [preprocess_image(img) for img in employee_images]\n",
        "employees = [remove_background(emp) for emp in employees]\n",
        "\n",
        "building = preprocess_image(building_images[C_0]()) # Use the first building image"
      ],
      "metadata": {
        "id": "MD59RCnUp532"
      },
      "execution_count": null,
      "outputs": []
    },
    {
      "cell_type": "markdown",
      "source": [
        "### **Step 2.2: Composite Image Creation**"
      ],
      "metadata": {
        "id": "4G8M_t5brDSj"
      }
    },
    {
      "cell_type": "markdown",
      "source": [
        "* Enhance the composite function to handle transparent backgrounds.\n",
        "*Implement proper positioning and scaling of characters on the building."
      ],
      "metadata": {
        "id": "Lb1kWVE1rYMS"
      }
    },
    {
      "cell_type": "code",
      "source": [
        "# Create composite images\n",
        "def create_composite(background, characters, positions):\n",
        "    composite = background.copy()\n",
        "    for char, pos in zip(characters, positions):\n",
        "        x, y = pos\n",
        "        h, w = char.shape[:2]\n",
        "        roi = composite[y:y+h, x:x+w]\n",
        "        mask = char[:,:,3] / 255.0\n",
        "        roi = roi * (1 - mask[:,:,np.newaxis]) + char[:,:,:3] * mask[:,:,np.newaxis]\n",
        "        composite[y:y+h, x:x+w] = roi\n",
        "    return composite\n",
        "\n",
        "characters = [jerr_bear] + employees\n",
        "positions = [(100, 100), (200, 200), ...]  # Define positions for each character\n",
        "composite = create_composite(building, characters, positions)"
      ],
      "metadata": {
        "id": "UC70pLWeq67v"
      },
      "execution_count": null,
      "outputs": []
    },
    {
      "cell_type": "markdown",
      "source": [
        "## **Step 3: Animation Creation**"
      ],
      "metadata": {
        "id": "YVl6ZdvKsBBI"
      }
    },
    {
      "cell_type": "markdown",
      "source": [
        "### **Step 3.1: Define Animation Keyframes**\n",
        "* Create animation sequence with defined keyframes."
      ],
      "metadata": {
        "id": "7-Q3togxsRGW"
      }
    },
    {
      "cell_type": "code",
      "source": [
        "# Define animation keyframe\n",
        "keyframes = [\n",
        "    {'frame': 0, 'action': 'static'},\n",
        "    {'frame': 30, 'action': 'rumble_start'},\n",
        "    {'frame': 60, 'action': 'liftoff'},\n",
        "    {'frame': 120, 'action': 'space_travel'},\n",
        "    {'frame': 180, 'action': 'end'}\n",
        "]\n"
      ],
      "metadata": {
        "id": "umwXnWpTsRt2"
      },
      "execution_count": null,
      "outputs": []
    },
    {
      "cell_type": "markdown",
      "source": [
        "### **Step 3.2 Implement Animation Effects**"
      ],
      "metadata": {
        "id": "xR0bdle9uVqk"
      }
    },
    {
      "cell_type": "markdown",
      "source": [
        "* Create separate functions for each animation effect."
      ],
      "metadata": {
        "id": "yrtsI8rLubuR"
      }
    },
    {
      "cell_type": "code",
      "source": [
        "# Rumble effect\n",
        "def apply_rumble(frame, intensity):\n",
        "    # Implement rumble effect\n",
        "    pass\n",
        "\n",
        "# Liftoff effect\n",
        "def apply_liftoff(frame, progress):\n",
        "    # Implement liftoff effect\n",
        "    pass\n",
        "\n",
        "# Space travel effect\n",
        "def apply_space_travel(frame, progress):\n",
        "    # Implement space travel effect\n",
        "    pass\n"
      ],
      "metadata": {
        "id": "120zl7EbuWQd"
      },
      "execution_count": null,
      "outputs": []
    },
    {
      "cell_type": "markdown",
      "source": [
        "### **Step 3.3: Generate Animation Frames**\n"
      ],
      "metadata": {
        "id": "g1MPBz7AvLvz"
      }
    },
    {
      "cell_type": "markdown",
      "source": [
        "* Use the keyframes to generate a smooth animation sequence."
      ],
      "metadata": {
        "id": "JXBgKWYrvOSa"
      }
    },
    {
      "cell_type": "code",
      "source": [
        "# Generate animation sequence\n",
        "def generate_animation_frames(composite, keyframes, total_frames=180):\n",
        "    frames = []\n",
        "    for i in range(total_frames):\n",
        "        frame = composite.copy()\n",
        "        current_action = next(kf for kf in reversed(keyframes) if kf['frame'] <= i)\n",
        "\n",
        "        if current_action['action'] == 'rumble_start':\n",
        "            apply_rumble(frame, (i - current_action['frame']) / 30)\n",
        "        elif current_action['action'] == 'liftoff':\n",
        "            apply_liftoff(frame, (i - current_action['frame']) / 60)\n",
        "        elif current_action['action'] == 'space_travel':\n",
        "            apply_space_travel(frame, (i - current_action['frame']) / 60)\n",
        "\n",
        "        frames.append(frame)\n",
        "    return frames\n",
        "\n",
        "animation_frames = generate_animation_frames(composite, keyframes)"
      ],
      "metadata": {
        "id": "7D5RWffSvKcL"
      },
      "execution_count": null,
      "outputs": []
    },
    {
      "cell_type": "markdown",
      "source": [
        "## **Step 4: Final Video Creation**\n"
      ],
      "metadata": {
        "id": "TVn_OuDdvKN7"
      }
    },
    {
      "cell_type": "markdown",
      "source": [
        "### **Step 4.1: Use moviepy to video**"
      ],
      "metadata": {
        "id": "ZVIJUcOwwQEa"
      }
    },
    {
      "cell_type": "markdown",
      "source": [
        "* Create the final video with sound effects"
      ],
      "metadata": {
        "id": "Vp8911oVw-Nh"
      }
    },
    {
      "cell_type": "code",
      "source": [
        "# Using moviepy to create video with sound effects\n",
        "\n",
        "from moviepy.editor import ImageSequenceClip, AudioFileClip, CompositeAudioClip\n",
        "\n",
        "def create_video(frames, output_filename, fps=30):\n",
        "    clip = ImageSequenceClip(frames, fps=fps)\n",
        "\n",
        "    # Add sound effects\n",
        "    rocket_sound = AudioFileClip(\"rocket_sound.mp3\").subclip(0, clip.duration)\n",
        "    final_audio = CompositeAudioClip([rocket_sound])\n",
        "\n",
        "    final_clip = clip.set_audio(final_audio)\n",
        "    final_clip.write_videofile(output_filename, fps=fps)\n",
        "\n",
        "create_video(animation_frames, \"jerr_bear_rocket.mp4\")"
      ],
      "metadata": {
        "id": "WQpkBZxZwC-w"
      },
      "execution_count": null,
      "outputs": []
    },
    {
      "cell_type": "markdown",
      "source": [
        "## **Summary**"
      ],
      "metadata": {
        "id": "ewTCDGWFBAIS"
      }
    },
    {
      "cell_type": "markdown",
      "source": [
        "This plan provides a robust and detailed approach to creating the animated video. It includes error handling, image preprocessing, mid-level animation techniques, and the addition of sound effects.\n"
      ],
      "metadata": {
        "id": "TAi5KnbX54VS"
      }
    }
  ]
}